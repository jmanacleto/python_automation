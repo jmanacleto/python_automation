{
 "cells": [
  {
   "cell_type": "code",
   "execution_count": 12,
   "metadata": {},
   "outputs": [],
   "source": [
    "import datetime as dt\n",
    "import smtplib\n",
    "from email.mime.multipart import MIMEMultipart\n",
    "from email.mime.text import MIMEText"
   ]
  },
  {
   "cell_type": "code",
   "execution_count": 13,
   "metadata": {},
   "outputs": [
    {
     "name": "stdout",
     "output_type": "stream",
     "text": [
      "2024-03-22 14:10:38.240519\n"
     ]
    },
    {
     "data": {
      "text/plain": [
       "(221, b'2.0.0 Service closing transmission channel')"
      ]
     },
     "execution_count": 13,
     "metadata": {},
     "output_type": "execute_result"
    }
   ],
   "source": [
    "# STARTAR O SERVIDOR SMTP \n",
    "host = \"webmail.aneel.gov.br\"\n",
    "port = \"25\"\n",
    "login = 'parecerespf@aneel.gov.br'#\"sgpotee_sct@aneel.gov.br\"\n",
    "senha = \"\"\n",
    "cc = \"joaoanacleto@aneel.gov.br\"\n",
    "to = \"joaoanacleto@aneel.gov.br\"\n",
    "server = smtplib.SMTP(host,port)\n",
    "server.ehlo()\n",
    "server.starttls()\n",
    "erroGlobal = ''\n",
    "# try:\n",
    "#     a = '1' + 1\n",
    "# except Exception as erro:\n",
    "#     print('Erro foi:',erro)\n",
    "#     erroGlobal = erro\n",
    "\n",
    "# finally:\n",
    "hoje = dt.datetime.now()\n",
    "print(hoje)\n",
    "email_msg = MIMEMultipart('alternative')\n",
    "email_msg['From'] = login\n",
    "email_msg['To'] = to\n",
    "email_msg['Cc'] = cc\n",
    "email_msg['Subject'] = \"Teste de email B3\"\n",
    "html = f\"\"\"\\\n",
    "<html>\n",
    "<head></head>\n",
    "<body>\n",
    "    <p><B>Rotina B3 - BM & FBOVESPA DI x Pré </b><br><br>\n",
    "    Data e hora da execução: {hoje} <br>\n",
    "    Status/Erro: {erroGlobal}\n",
    "    </p>\n",
    "</body>\n",
    "</html>\n",
    "\"\"\"\n",
    "part2 = MIMEText(html, 'html')\n",
    "email_msg.attach(part2)\n",
    "#print(email_msg)\n",
    "# Enviar email tipo MIME no servidor SMTP\n",
    "server.sendmail(login,to.split(\",\"),email_msg.as_string())\n",
    "server.quit()"
   ]
  },
  {
   "cell_type": "markdown",
   "metadata": {},
   "source": [
    "## Projeto main"
   ]
  },
  {
   "cell_type": "code",
   "execution_count": 1,
   "metadata": {},
   "outputs": [],
   "source": [
    "import smtplib\n",
    "import datetime as dt\n",
    "import schedule\n",
    "import time\n",
    "from email.mime.multipart import MIMEMultipart\n",
    "from email.mime.text import MIMEText\n",
    "from email.mime.base import MIMEBase\n",
    "from email import encoders"
   ]
  },
  {
   "cell_type": "code",
   "execution_count": 16,
   "metadata": {},
   "outputs": [
    {
     "ename": "KeyboardInterrupt",
     "evalue": "",
     "output_type": "error",
     "traceback": [
      "\u001b[1;31m---------------------------------------------------------------------------\u001b[0m",
      "\u001b[1;31mKeyboardInterrupt\u001b[0m                         Traceback (most recent call last)",
      "Cell \u001b[1;32mIn[16], line 39\u001b[0m\n\u001b[0;32m     37\u001b[0m \u001b[38;5;28;01mwhile\u001b[39;00m \u001b[38;5;28;01mTrue\u001b[39;00m:\n\u001b[0;32m     38\u001b[0m     schedule\u001b[38;5;241m.\u001b[39mrun_pending()\n\u001b[1;32m---> 39\u001b[0m     \u001b[43mtime\u001b[49m\u001b[38;5;241;43m.\u001b[39;49m\u001b[43msleep\u001b[49m\u001b[43m(\u001b[49m\u001b[38;5;241;43m1\u001b[39;49m\u001b[43m)\u001b[49m\n",
      "\u001b[1;31mKeyboardInterrupt\u001b[0m: "
     ]
    }
   ],
   "source": [
    "def enviar_email():\n",
    "    host = \"webmail.aneel.gov.br\"\n",
    "    port = \"25\"\n",
    "    login = 'parecerespf@aneel.gov.br'\n",
    "    senha = \"#Q7&V$&&r8\"\n",
    "    cc = \"joaoanacleto@aneel.gov.br\"\n",
    "    to = \"joaoanacleto@aneel.gov.br\"\n",
    "    server = smtplib.SMTP(host, port)\n",
    "    server.ehlo()\n",
    "    server.starttls()\n",
    "    erroGlobal = ''\n",
    "\n",
    "    hoje = dt.datetime.now()\n",
    "    print(hoje)\n",
    "    email_msg = MIMEMultipart()\n",
    "    email_msg['From'] = login\n",
    "    email_msg['To'] = to\n",
    "    email_msg['Cc'] = cc\n",
    "    email_msg['Subject'] = \"Teste de email B3\"\n",
    "\n",
    "    # Adicionar o arquivo como anexo\n",
    "    filename = 'C:/Users/joaoanacleto/Documents/ANEEL_DOCS/projeto_teste.txt'#\"caminho_para_seu_arquivo.txt\"\n",
    "    with open(filename, 'rb') as attachment:\n",
    "        part = MIMEBase('application', 'octet-stream')\n",
    "        part.set_payload(attachment.read())\n",
    "        encoders.encode_base64(part)\n",
    "        part.add_header('Content-Disposition', \"attachment; filename= %s\" % filename)\n",
    "        email_msg.attach(part)\n",
    "\n",
    "    server.sendmail(login, to.split(\",\"), email_msg.as_string())\n",
    "    server.quit()\n",
    "\n",
    "# Schedule the email to be sent every morning at 8:00 AM\n",
    "schedule.every().day.at(\"08:00\").do(enviar_email)\n",
    "\n",
    "# Run the scheduled tasks\n",
    "while True:\n",
    "    schedule.run_pending()\n",
    "    time.sleep(1)"
   ]
  }
 ],
 "metadata": {
  "kernelspec": {
   "display_name": "Python 3",
   "language": "python",
   "name": "python3"
  },
  "language_info": {
   "codemirror_mode": {
    "name": "ipython",
    "version": 3
   },
   "file_extension": ".py",
   "mimetype": "text/x-python",
   "name": "python",
   "nbconvert_exporter": "python",
   "pygments_lexer": "ipython3",
   "version": "3.12.2"
  }
 },
 "nbformat": 4,
 "nbformat_minor": 2
}
